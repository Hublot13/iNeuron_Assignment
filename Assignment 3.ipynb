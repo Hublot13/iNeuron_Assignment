{
 "cells": [
  {
   "cell_type": "markdown",
   "id": "b8d628a4",
   "metadata": {},
   "source": [
    "Assignment 3"
   ]
  },
  {
   "cell_type": "markdown",
   "id": "0c7ab704",
   "metadata": {},
   "source": [
    "1.1 Write a Python Program to implement your own myreduce() function which works exactly\n",
    "like Python's built-in function reduce()"
   ]
  },
  {
   "cell_type": "code",
   "execution_count": 75,
   "id": "ef9bc02a",
   "metadata": {},
   "outputs": [
    {
     "name": "stdout",
     "output_type": "stream",
     "text": [
      "102\n"
     ]
    }
   ],
   "source": [
    "def myreduce(func,values):\n",
    "    result = values[0]\n",
    "    for i in values[1:]:\n",
    "        result = addFunc(result,i)\n",
    "    return result\n",
    "def addFunc(a,b):\n",
    "    return a + b\n",
    "\n",
    "l=[3,4,5,6,67,8,9,0]\n",
    "\n",
    "print(f\"{myreduce(addFunc,l)}\")"
   ]
  },
  {
   "cell_type": "markdown",
   "id": "220d477e",
   "metadata": {},
   "source": [
    "1.2 Write a Python program to implement your own myfilter() function which works exactly\n",
    "like Python's built-in function filter()"
   ]
  },
  {
   "cell_type": "code",
   "execution_count": 76,
   "id": "d6fa4cbe",
   "metadata": {},
   "outputs": [
    {
     "name": "stdout",
     "output_type": "stream",
     "text": [
      "[12, 13, 14]\n"
     ]
    }
   ],
   "source": [
    "ages = [12,13,14,18,19,20,33]\n",
    "\n",
    "def myfilter(func,values):\n",
    "    l2=[]\n",
    "    for i in values:\n",
    "        if valid(i) == True:\n",
    "            l2.append(i)\n",
    "        else:\n",
    "            continue\n",
    "    return l2\n",
    "def valid(x):\n",
    "    if x <18:\n",
    "        return True\n",
    "    else:\n",
    "        return False\n",
    "\n",
    "print(f\"{myfilter(valid,ages)}\")"
   ]
  },
  {
   "cell_type": "markdown",
   "id": "e53146a0",
   "metadata": {},
   "source": [
    "2. Implement List comprehensions to produce the following lists.\n",
    "Write List comprehensions to produce the following Lists"
   ]
  },
  {
   "cell_type": "code",
   "execution_count": 77,
   "id": "93a49ea3",
   "metadata": {},
   "outputs": [
    {
     "data": {
      "text/plain": [
       "['x', 'xx', 'xxx', 'xxxx', 'y', 'yy', 'yyy', 'yyyy', 'z', 'zz', 'zzz', 'zzzz']"
      ]
     },
     "execution_count": 77,
     "metadata": {},
     "output_type": "execute_result"
    }
   ],
   "source": [
    "alpha = ['x','y','z']\n",
    "list1=[i*j for i in alpha for j in range(1,5)]\n",
    "list1"
   ]
  },
  {
   "cell_type": "code",
   "execution_count": 78,
   "id": "0d77d851",
   "metadata": {},
   "outputs": [
    {
     "data": {
      "text/plain": [
       "['x', 'y', 'z', 'xx', 'yy', 'zz', 'xxx', 'yyy', 'zzz', 'xxxx', 'yyyy', 'zzzz']"
      ]
     },
     "execution_count": 78,
     "metadata": {},
     "output_type": "execute_result"
    }
   ],
   "source": [
    "list2=[i*j for i in range(1,5) for j in alpha]\n",
    "list2"
   ]
  },
  {
   "cell_type": "code",
   "execution_count": 79,
   "id": "402ccc6c",
   "metadata": {},
   "outputs": [
    {
     "data": {
      "text/plain": [
       "[[2], [3], [4], [3], [4], [5], [4], [5], [6]]"
      ]
     },
     "execution_count": 79,
     "metadata": {},
     "output_type": "execute_result"
    }
   ],
   "source": [
    "list3=[[i+j] for i in range(3) for j in range(2,5)]\n",
    "list3"
   ]
  },
  {
   "cell_type": "code",
   "execution_count": 80,
   "id": "4978f4c8",
   "metadata": {},
   "outputs": [
    {
     "data": {
      "text/plain": [
       "[[2, 3, 4, 5], [3, 4, 5, 6], [4, 5, 6, 7], [5, 6, 7, 8]]"
      ]
     },
     "execution_count": 80,
     "metadata": {},
     "output_type": "execute_result"
    }
   ],
   "source": [
    "list4=[[i+j for j in range(2,6)] for i in range(4)]\n",
    "list4"
   ]
  },
  {
   "cell_type": "code",
   "execution_count": 81,
   "id": "edb419cd",
   "metadata": {},
   "outputs": [
    {
     "data": {
      "text/plain": [
       "[(1, 1), (2, 1), (3, 1), (1, 2), (2, 2), (3, 2), (1, 3), (2, 3), (3, 3)]"
      ]
     },
     "execution_count": 81,
     "metadata": {},
     "output_type": "execute_result"
    }
   ],
   "source": [
    "list5=[(i,j) for j in range(1,4) for i in range(1,4)]\n",
    "list5"
   ]
  }
 ],
 "metadata": {
  "kernelspec": {
   "display_name": "Python 3 (ipykernel)",
   "language": "python",
   "name": "python3"
  },
  "language_info": {
   "codemirror_mode": {
    "name": "ipython",
    "version": 3
   },
   "file_extension": ".py",
   "mimetype": "text/x-python",
   "name": "python",
   "nbconvert_exporter": "python",
   "pygments_lexer": "ipython3",
   "version": "3.9.7"
  }
 },
 "nbformat": 4,
 "nbformat_minor": 5
}
